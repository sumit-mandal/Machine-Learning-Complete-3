{
 "cells": [
  {
   "cell_type": "code",
   "execution_count": 1,
   "id": "6703e95c-3811-4174-aa03-9ff490947493",
   "metadata": {},
   "outputs": [],
   "source": [
    "import numpy as np"
   ]
  },
  {
   "cell_type": "code",
   "execution_count": 5,
   "id": "11a5024f-dc6e-4fe6-9b03-6605c2c4ade5",
   "metadata": {},
   "outputs": [],
   "source": [
    "a3 = np.array([[[1,2,3],\n",
    "               [4,5,6],\n",
    "               [7,8,9]],\n",
    "              [[10,11,12],\n",
    "              [13,14,15],\n",
    "              [16,17,18]]])"
   ]
  },
  {
   "cell_type": "code",
   "execution_count": 6,
   "id": "13e07b1d-89ee-4a5e-9f23-8586b1e0e85d",
   "metadata": {},
   "outputs": [
    {
     "data": {
      "text/plain": [
       "array([[[ 1,  2,  3],\n",
       "        [ 4,  5,  6],\n",
       "        [ 7,  8,  9]],\n",
       "\n",
       "       [[10, 11, 12],\n",
       "        [13, 14, 15],\n",
       "        [16, 17, 18]]])"
      ]
     },
     "execution_count": 6,
     "metadata": {},
     "output_type": "execute_result"
    }
   ],
   "source": [
    "a3"
   ]
  },
  {
   "cell_type": "code",
   "execution_count": 9,
   "id": "ec1244c7-d099-49c4-8a9f-2d61908815ae",
   "metadata": {},
   "outputs": [
    {
     "data": {
      "text/plain": [
       "(2, 3, 3)"
      ]
     },
     "execution_count": 9,
     "metadata": {},
     "output_type": "execute_result"
    }
   ],
   "source": [
    "a3.shape"
   ]
  },
  {
   "cell_type": "code",
   "execution_count": 10,
   "id": "ef87988d-1ec9-429c-934b-5eb08b4b2ba7",
   "metadata": {},
   "outputs": [
    {
     "data": {
      "text/plain": [
       "array([1, 2, 3])"
      ]
     },
     "execution_count": 10,
     "metadata": {},
     "output_type": "execute_result"
    }
   ],
   "source": [
    "a1 = np.array([1,2,3])\n",
    "a1"
   ]
  },
  {
   "cell_type": "code",
   "execution_count": 12,
   "id": "3a002eeb-4ff8-47fa-a3a4-1d574754f2b9",
   "metadata": {},
   "outputs": [],
   "source": [
    "a2 = np.array([[1,2.0,3.3],\n",
    "              [4,5,6.5]])"
   ]
  },
  {
   "cell_type": "code",
   "execution_count": 13,
   "id": "39f1c7e0-f8c8-4ed0-9d1b-3dbc4b4110b1",
   "metadata": {},
   "outputs": [
    {
     "data": {
      "text/plain": [
       "array([[1. , 2. , 3.3],\n",
       "       [4. , 5. , 6.5]])"
      ]
     },
     "execution_count": 13,
     "metadata": {},
     "output_type": "execute_result"
    }
   ],
   "source": [
    "a2"
   ]
  },
  {
   "cell_type": "code",
   "execution_count": 27,
   "id": "5b305e42-e4df-4158-92ae-7220617c70f8",
   "metadata": {},
   "outputs": [
    {
     "name": "stderr",
     "output_type": "stream",
     "text": [
      "<ipython-input-27-de1b36f4e4fc>:1: VisibleDeprecationWarning: Creating an ndarray from ragged nested sequences (which is a list-or-tuple of lists-or-tuples-or ndarrays with different lengths or shapes) is deprecated. If you meant to do this, you must specify 'dtype=object' when creating the ndarray\n",
      "  a4 = np.array([[[[1,2,3],\n"
     ]
    }
   ],
   "source": [
    "a4 = np.array([[[[1,2,3],\n",
    "              [4,5,6],\n",
    "              [7,8,9]],\n",
    "              [[1,2,3],\n",
    "              [4,5,6],\n",
    "              [7,8,9]]],\n",
    "              [[[1,2,3],\n",
    "              [4,5,6],\n",
    "              [7,8,9]]]]\n",
    "             )"
   ]
  },
  {
   "cell_type": "code",
   "execution_count": 28,
   "id": "a8cb05cc-325a-4f60-88ea-460a94f224f1",
   "metadata": {},
   "outputs": [
    {
     "data": {
      "text/plain": [
       "(2,)"
      ]
     },
     "execution_count": 28,
     "metadata": {},
     "output_type": "execute_result"
    }
   ],
   "source": [
    "a4.shape"
   ]
  },
  {
   "cell_type": "code",
   "execution_count": 30,
   "id": "a68acbd6-52b3-413a-8621-97894070bde8",
   "metadata": {},
   "outputs": [],
   "source": [
    "import numpy as np    \n",
    "\n",
    "a = np.arange(72)\n",
    "\n",
    "a = np.reshape(a, (4,3,2,3))"
   ]
  },
  {
   "cell_type": "code",
   "execution_count": 31,
   "id": "f154a1f7-3c7e-4033-8bf8-549edfba7355",
   "metadata": {},
   "outputs": [
    {
     "data": {
      "text/plain": [
       "array([[[[ 0,  1,  2],\n",
       "         [ 3,  4,  5]],\n",
       "\n",
       "        [[ 6,  7,  8],\n",
       "         [ 9, 10, 11]],\n",
       "\n",
       "        [[12, 13, 14],\n",
       "         [15, 16, 17]]],\n",
       "\n",
       "\n",
       "       [[[18, 19, 20],\n",
       "         [21, 22, 23]],\n",
       "\n",
       "        [[24, 25, 26],\n",
       "         [27, 28, 29]],\n",
       "\n",
       "        [[30, 31, 32],\n",
       "         [33, 34, 35]]],\n",
       "\n",
       "\n",
       "       [[[36, 37, 38],\n",
       "         [39, 40, 41]],\n",
       "\n",
       "        [[42, 43, 44],\n",
       "         [45, 46, 47]],\n",
       "\n",
       "        [[48, 49, 50],\n",
       "         [51, 52, 53]]],\n",
       "\n",
       "\n",
       "       [[[54, 55, 56],\n",
       "         [57, 58, 59]],\n",
       "\n",
       "        [[60, 61, 62],\n",
       "         [63, 64, 65]],\n",
       "\n",
       "        [[66, 67, 68],\n",
       "         [69, 70, 71]]]])"
      ]
     },
     "execution_count": 31,
     "metadata": {},
     "output_type": "execute_result"
    }
   ],
   "source": [
    "a"
   ]
  },
  {
   "cell_type": "code",
   "execution_count": 32,
   "id": "663de2b0-f9e5-488a-8955-2a1a261e32e2",
   "metadata": {},
   "outputs": [
    {
     "data": {
      "text/plain": [
       "(3,)"
      ]
     },
     "execution_count": 32,
     "metadata": {},
     "output_type": "execute_result"
    }
   ],
   "source": [
    "a1.shape"
   ]
  },
  {
   "cell_type": "code",
   "execution_count": 33,
   "id": "000b9ffe-a21f-452d-be26-94cb753ef5e9",
   "metadata": {},
   "outputs": [
    {
     "data": {
      "text/plain": [
       "3"
      ]
     },
     "execution_count": 33,
     "metadata": {},
     "output_type": "execute_result"
    }
   ],
   "source": [
    "a1.size"
   ]
  },
  {
   "cell_type": "code",
   "execution_count": 39,
   "id": "731cbb38-b5c9-4fcc-8ab5-219c479e8ad7",
   "metadata": {},
   "outputs": [
    {
     "data": {
      "text/plain": [
       "array([[[1, 3, 3, 0],\n",
       "        [5, 5, 9, 6],\n",
       "        [5, 1, 6, 7],\n",
       "        [5, 7, 3, 7],\n",
       "        [3, 5, 8, 3]],\n",
       "\n",
       "       [[0, 2, 5, 9],\n",
       "        [0, 8, 4, 1],\n",
       "        [1, 2, 2, 0],\n",
       "        [8, 9, 0, 3],\n",
       "        [3, 3, 5, 2]],\n",
       "\n",
       "       [[9, 0, 8, 2],\n",
       "        [6, 6, 0, 7],\n",
       "        [7, 8, 1, 1],\n",
       "        [3, 7, 1, 2],\n",
       "        [6, 3, 7, 2]]])"
      ]
     },
     "execution_count": 39,
     "metadata": {},
     "output_type": "execute_result"
    }
   ],
   "source": [
    "random_array = np.random.randint(0,10,size=(3,5,4))\n",
    "random_array\n"
   ]
  },
  {
   "cell_type": "code",
   "execution_count": 40,
   "id": "32c0dd3a-8183-440b-85ec-22369ad74a11",
   "metadata": {},
   "outputs": [
    {
     "data": {
      "text/plain": [
       "array([[0.17658253, 0.26778332, 0.0298872 ],\n",
       "       [0.90012861, 0.75494661, 0.87709146],\n",
       "       [0.97691498, 0.76955948, 0.40405939],\n",
       "       [0.13829761, 0.10197679, 0.11562622],\n",
       "       [0.85858399, 0.84642091, 0.77999876]])"
      ]
     },
     "execution_count": 40,
     "metadata": {},
     "output_type": "execute_result"
    }
   ],
   "source": [
    "## Random array of  (n,n) shape between 0 and 1\n",
    "random_array_2 = np.random.random((5,3))\n",
    "random_array_2"
   ]
  },
  {
   "cell_type": "code",
   "execution_count": 42,
   "id": "6f2646a1-f663-42b5-9972-f5d33b1c6382",
   "metadata": {},
   "outputs": [
    {
     "data": {
      "text/plain": [
       "array([[0.00341101, 0.04225232, 0.23463067],\n",
       "       [0.27044204, 0.82123694, 0.16312714],\n",
       "       [0.93917793, 0.04536159, 0.91884428],\n",
       "       [0.02280626, 0.82985919, 0.40569675],\n",
       "       [0.24031456, 0.42433983, 0.88600705]])"
      ]
     },
     "execution_count": 42,
     "metadata": {},
     "output_type": "execute_result"
    }
   ],
   "source": [
    "random_array_3 = np.random.rand(5,3)\n",
    "random_array_3"
   ]
  },
  {
   "cell_type": "code",
   "execution_count": null,
   "id": "f5035932-c008-43b4-be22-46148d079f9d",
   "metadata": {},
   "outputs": [],
   "source": [
    "! git add Numpy_intro.ipynb\n",
    "! git commit -m \"20:43/29-06-2021\"\n",
    "! git push origin main"
   ]
  }
 ],
 "metadata": {
  "kernelspec": {
   "display_name": "Python [conda env:cv] *",
   "language": "python",
   "name": "conda-env-cv-py"
  },
  "language_info": {
   "codemirror_mode": {
    "name": "ipython",
    "version": 3
   },
   "file_extension": ".py",
   "mimetype": "text/x-python",
   "name": "python",
   "nbconvert_exporter": "python",
   "pygments_lexer": "ipython3",
   "version": "3.8.5"
  }
 },
 "nbformat": 4,
 "nbformat_minor": 5
}
